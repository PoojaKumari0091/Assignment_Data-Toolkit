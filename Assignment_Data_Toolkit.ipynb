{
  "cells": [
    {
      "cell_type": "markdown",
      "id": "7a35e6bb",
      "metadata": {
        "id": "7a35e6bb"
      },
      "source": [
        "### Theoritical Questions"
      ]
    },
    {
      "cell_type": "markdown",
      "id": "5b12bd79",
      "metadata": {
        "id": "5b12bd79"
      },
      "source": [
        "Q1. What is NumPy, and why is it widely used in Python"
      ]
    },
    {
      "cell_type": "markdown",
      "id": "d9afdd8e",
      "metadata": {
        "id": "d9afdd8e"
      },
      "source": [
        "- NumPy is a Python library for numerical and scientific computing.\n",
        "- It provides efficient arrays and mathematical operations that are faster than Python lists.\n",
        "- It is widely used in data analysis, machine learning, and simulations."
      ]
    },
    {
      "cell_type": "markdown",
      "id": "440550ce",
      "metadata": {
        "id": "440550ce"
      },
      "source": [
        "Q2. How does broadcasting work in NumPy"
      ]
    },
    {
      "cell_type": "markdown",
      "id": "7f14fc43",
      "metadata": {
        "id": "7f14fc43"
      },
      "source": [
        "- Broadcasting allows operations on arrays of different shapes.\n",
        "- The smaller array is automatically expanded without copying data.\n",
        "- This makes arithmetic operations concise and efficient."
      ]
    },
    {
      "cell_type": "markdown",
      "id": "0f0437ad",
      "metadata": {
        "id": "0f0437ad"
      },
      "source": [
        "Q3. What is a Pandas DataFrame"
      ]
    },
    {
      "cell_type": "markdown",
      "id": "9fb5b1c6",
      "metadata": {
        "id": "9fb5b1c6"
      },
      "source": [
        "- A DataFrame is a 2D labeled data structure in Pandas.\n",
        "- It has rows and columns like a table or spreadsheet.\n",
        "- It is widely used for handling structured data."
      ]
    },
    {
      "cell_type": "markdown",
      "id": "85c99169",
      "metadata": {
        "id": "85c99169"
      },
      "source": [
        "Q4. Explain the use of the groupby() method in Pandas"
      ]
    },
    {
      "cell_type": "markdown",
      "id": "48752760",
      "metadata": {
        "id": "48752760"
      },
      "source": [
        "- groupby() splits data into groups based on a column.\n",
        "- You can then apply functions like sum, mean, or count on each group.\n",
        "- Useful for aggregation and analysis."
      ]
    },
    {
      "cell_type": "markdown",
      "id": "d7b5feb5",
      "metadata": {
        "id": "d7b5feb5"
      },
      "source": [
        "Q5. Why is Seaborn preferred for statistical visualizations"
      ]
    },
    {
      "cell_type": "markdown",
      "id": "5c03763b",
      "metadata": {
        "id": "5c03763b"
      },
      "source": [
        "- Seaborn provides built-in support for statistical plots.\n",
        "- It offers attractive default styles and color palettes.\n",
        "- Complex plots like violin plots or pairplots are easy to create."
      ]
    },
    {
      "cell_type": "markdown",
      "id": "7a0b37b0",
      "metadata": {
        "id": "7a0b37b0"
      },
      "source": [
        "Q6. What are the differences between NumPy arrays and Python lists"
      ]
    },
    {
      "cell_type": "markdown",
      "id": "a7432b0b",
      "metadata": {
        "id": "a7432b0b"
      },
      "source": [
        "- NumPy arrays store data of the same type, lists can hold mixed types.\n",
        "- Arrays are faster and more memory-efficient.\n",
        "- Arrays support vectorized operations, lists require loops."
      ]
    },
    {
      "cell_type": "markdown",
      "id": "498e09e2",
      "metadata": {
        "id": "498e09e2"
      },
      "source": [
        "Q7. What is a heatmap, and when should it be used"
      ]
    },
    {
      "cell_type": "markdown",
      "id": "f1459b3e",
      "metadata": {
        "id": "f1459b3e"
      },
      "source": [
        "- A heatmap is a graphical representation of data using colors.\n",
        "- It is used to show correlations, intensity, or density.\n",
        "- Commonly used in statistical and machine learning analysis."
      ]
    },
    {
      "cell_type": "markdown",
      "id": "3c4bd5c2",
      "metadata": {
        "id": "3c4bd5c2"
      },
      "source": [
        "Q8. What does the term “vectorized operation” mean in NumPy"
      ]
    },
    {
      "cell_type": "markdown",
      "id": "e044583b",
      "metadata": {
        "id": "e044583b"
      },
      "source": [
        "- It means applying operations directly on arrays without explicit loops.\n",
        "- Vectorized operations are faster and more readable.\n",
        "- They leverage optimized C and Fortran code internally."
      ]
    },
    {
      "cell_type": "markdown",
      "id": "c013634b",
      "metadata": {
        "id": "c013634b"
      },
      "source": [
        "Q9. How does Matplotlib differ from Plotly"
      ]
    },
    {
      "cell_type": "markdown",
      "id": "1ce526a1",
      "metadata": {
        "id": "1ce526a1"
      },
      "source": [
        "- Matplotlib is static and widely used for traditional plots.\n",
        "- Plotly creates interactive, web-friendly visualizations.\n",
        "- Plotly is better for dashboards and dynamic data."
      ]
    },
    {
      "cell_type": "markdown",
      "id": "dff9e0a4",
      "metadata": {
        "id": "dff9e0a4"
      },
      "source": [
        "Q10. What is the significance of hierarchical indexing in Pandas"
      ]
    },
    {
      "cell_type": "markdown",
      "id": "1b4d3e13",
      "metadata": {
        "id": "1b4d3e13"
      },
      "source": [
        "- It allows multiple levels of row or column labels.\n",
        "- Useful for representing higher-dimensional data in 2D.\n",
        "- Helps organize complex datasets more effectively."
      ]
    },
    {
      "cell_type": "markdown",
      "id": "e6377994",
      "metadata": {
        "id": "e6377994"
      },
      "source": [
        "Q11. What is the role of Seaborn’s pairplot() function"
      ]
    },
    {
      "cell_type": "markdown",
      "id": "7f119067",
      "metadata": {
        "id": "7f119067"
      },
      "source": [
        "- pairplot() creates scatterplots between all pairs of numerical features.\n",
        "- It helps visualize relationships and distributions.\n",
        "- Often used in exploratory data analysis."
      ]
    },
    {
      "cell_type": "markdown",
      "id": "c92c4047",
      "metadata": {
        "id": "c92c4047"
      },
      "source": [
        "Q12. What is the purpose of the describe() function in Pandas"
      ]
    },
    {
      "cell_type": "markdown",
      "id": "bd8597a9",
      "metadata": {
        "id": "bd8597a9"
      },
      "source": [
        "- describe() provides summary statistics of numerical columns.\n",
        "- Includes mean, std, min, max, and quartiles.\n",
        "- Helps quickly understand dataset distribution."
      ]
    },
    {
      "cell_type": "markdown",
      "id": "9b5b020f",
      "metadata": {
        "id": "9b5b020f"
      },
      "source": [
        "Q13. Why is handling missing data important in Pandas"
      ]
    },
    {
      "cell_type": "markdown",
      "id": "bc9db1ee",
      "metadata": {
        "id": "bc9db1ee"
      },
      "source": [
        "- Missing data can lead to biased or incorrect results.\n",
        "- It may break calculations or models if not handled.\n",
        "- Filling or dropping missing values improves accuracy."
      ]
    },
    {
      "cell_type": "markdown",
      "id": "a59cabe5",
      "metadata": {
        "id": "a59cabe5"
      },
      "source": [
        "Q14. What are the benefits of using Plotly for data visualization"
      ]
    },
    {
      "cell_type": "markdown",
      "id": "e8d3154a",
      "metadata": {
        "id": "e8d3154a"
      },
      "source": [
        "- It creates interactive, zoomable, and shareable charts.\n",
        "- Supports 3D visualizations and dashboards.\n",
        "- Works well for web and real-time applications."
      ]
    },
    {
      "cell_type": "markdown",
      "id": "9282ae7e",
      "metadata": {
        "id": "9282ae7e"
      },
      "source": [
        "Q15. How does NumPy handle multidimensional arrays"
      ]
    },
    {
      "cell_type": "markdown",
      "id": "ea0055f7",
      "metadata": {
        "id": "ea0055f7"
      },
      "source": [
        "- NumPy uses the ndarray object for multidimensional arrays.\n",
        "- It stores shape, strides, and data efficiently.\n",
        "- Operations apply across dimensions seamlessly."
      ]
    },
    {
      "cell_type": "markdown",
      "id": "f4ab9f8c",
      "metadata": {
        "id": "f4ab9f8c"
      },
      "source": [
        "Q16. What is the role of Bokeh in data visualization"
      ]
    },
    {
      "cell_type": "markdown",
      "id": "6da37e71",
      "metadata": {
        "id": "6da37e71"
      },
      "source": [
        "- Bokeh is a Python library for interactive visualizations.\n",
        "- It is designed for web applications and dashboards.\n",
        "- Handles large datasets efficiently with streaming support."
      ]
    },
    {
      "cell_type": "markdown",
      "id": "2ac7aaf3",
      "metadata": {
        "id": "2ac7aaf3"
      },
      "source": [
        "Q17. Explain the difference between apply() and map() in Pandas"
      ]
    },
    {
      "cell_type": "markdown",
      "id": "bbcf5794",
      "metadata": {
        "id": "bbcf5794"
      },
      "source": [
        "- apply() works on rows or columns with a custom function.\n",
        "- map() works element-wise on a Series.\n",
        "- apply() is more flexible, map() is simpler."
      ]
    },
    {
      "cell_type": "markdown",
      "id": "ec1f04df",
      "metadata": {
        "id": "ec1f04df"
      },
      "source": [
        "Q18. What are some advanced features of NumPy"
      ]
    },
    {
      "cell_type": "markdown",
      "id": "68303c90",
      "metadata": {
        "id": "68303c90"
      },
      "source": [
        "- Linear algebra operations like eigenvalues and matrix decompositions.\n",
        "- Random number generation.\n",
        "- Fast Fourier transforms and broadcasting."
      ]
    },
    {
      "cell_type": "markdown",
      "id": "85669080",
      "metadata": {
        "id": "85669080"
      },
      "source": [
        "Q19. How does Pandas simplify time series analysis"
      ]
    },
    {
      "cell_type": "markdown",
      "id": "56c61221",
      "metadata": {
        "id": "56c61221"
      },
      "source": [
        "- It provides datetime indexing and resampling tools.\n",
        "- Supports rolling windows and shifting operations.\n",
        "- Built-in functions make handling time data easy."
      ]
    },
    {
      "cell_type": "markdown",
      "id": "18af710d",
      "metadata": {
        "id": "18af710d"
      },
      "source": [
        "Q20. What is the role of a pivot table in Pandas"
      ]
    },
    {
      "cell_type": "markdown",
      "id": "cd4c58a1",
      "metadata": {
        "id": "cd4c58a1"
      },
      "source": [
        "- A pivot table summarizes data by grouping and aggregating.\n",
        "- It reshapes data to highlight relationships.\n",
        "- Commonly used in reporting and analysis."
      ]
    },
    {
      "cell_type": "markdown",
      "id": "985fee46",
      "metadata": {
        "id": "985fee46"
      },
      "source": [
        "Q21. Why is NumPy’s array slicing faster than Python’s list slicing"
      ]
    },
    {
      "cell_type": "markdown",
      "id": "9f5e8c0f",
      "metadata": {
        "id": "9f5e8c0f"
      },
      "source": [
        "- NumPy arrays use contiguous memory blocks.\n",
        "- Slicing returns a view instead of copying data.\n",
        "- Lists require copying elements, which is slower."
      ]
    },
    {
      "cell_type": "markdown",
      "id": "660feb0f",
      "metadata": {
        "id": "660feb0f"
      },
      "source": [
        "Q22. What are some common use cases for Seaborn"
      ]
    },
    {
      "cell_type": "markdown",
      "id": "73dd6dc6",
      "metadata": {
        "id": "73dd6dc6"
      },
      "source": [
        "- Visualizing distributions with histograms, KDE, and violin plots.\n",
        "- Analyzing relationships with scatterplots and pairplots.\n",
        "- Creating heatmaps for correlation analysis."
      ]
    },
    {
      "cell_type": "markdown",
      "id": "4e743426",
      "metadata": {
        "id": "4e743426"
      },
      "source": [
        "### Practical Questions"
      ]
    },
    {
      "cell_type": "markdown",
      "id": "151ca9e0",
      "metadata": {
        "id": "151ca9e0"
      },
      "source": [
        "Q1. How do you create a 2D NumPy array and calculate the sum of each row"
      ]
    },
    {
      "cell_type": "code",
      "execution_count": 21,
      "id": "c842ce2d",
      "metadata": {
        "colab": {
          "base_uri": "https://localhost:8080/"
        },
        "id": "c842ce2d",
        "outputId": "fc3a5c7c-05f8-4e09-d349-5f4bf231333e"
      },
      "outputs": [
        {
          "output_type": "stream",
          "name": "stdout",
          "text": [
            "[ 6 15 24]\n"
          ]
        }
      ],
      "source": [
        "import numpy as np\n",
        "arr = np.array([[1,2,3],[4,5,6],[7,8,9]])\n",
        "row_sum = arr.sum(axis=1)\n",
        "print(row_sum)"
      ]
    },
    {
      "cell_type": "markdown",
      "id": "76a7954c",
      "metadata": {
        "id": "76a7954c"
      },
      "source": [
        "Q2. Write a Pandas script to find the mean of a specific column in a DataFrame"
      ]
    },
    {
      "cell_type": "code",
      "execution_count": 23,
      "id": "53741cf3",
      "metadata": {
        "colab": {
          "base_uri": "https://localhost:8080/"
        },
        "id": "53741cf3",
        "outputId": "2896656d-576c-4683-8c15-a451da1da9b1"
      },
      "outputs": [
        {
          "output_type": "stream",
          "name": "stdout",
          "text": [
            "90.0\n"
          ]
        }
      ],
      "source": [
        "import pandas as pd\n",
        "df = pd.DataFrame({'Name':['A','B','C'],'Score':[85,90,95]})\n",
        "print(df['Score'].mean())"
      ]
    },
    {
      "cell_type": "markdown",
      "id": "2d68e66b",
      "metadata": {
        "id": "2d68e66b"
      },
      "source": [
        "Q3. Create a scatter plot using Matplotlib"
      ]
    },
    {
      "cell_type": "code",
      "execution_count": 25,
      "id": "a449fc09",
      "metadata": {
        "colab": {
          "base_uri": "https://localhost:8080/",
          "height": 430
        },
        "id": "a449fc09",
        "outputId": "9ac05661-9a81-49d6-dc9e-731d13a01cb9"
      },
      "outputs": [
        {
          "output_type": "display_data",
          "data": {
            "text/plain": [
              "<Figure size 640x480 with 1 Axes>"
            ],
            "image/png": "[encoded data removed]"
          },
          "metadata": {}
        }
      ],
      "source": [
        "import matplotlib.pyplot as plt\n",
        "x = [1,2,3,4,5]\n",
        "y = [2,4,6,8,10]\n",
        "plt.scatter(x, y)\n",
        "plt.show()"
      ]
    },
    {
      "cell_type": "markdown",
      "id": "af9f22c9",
      "metadata": {
        "id": "af9f22c9"
      },
      "source": [
        "Q4. How do you calculate the correlation matrix using Seaborn and visualize it with a heatmap"
      ]
    },
    {
      "cell_type": "code",
      "execution_count": 27,
      "id": "43ab1029",
      "metadata": {
        "colab": {
          "base_uri": "https://localhost:8080/",
          "height": 435
        },
        "id": "43ab1029",
        "outputId": "745b852b-19c6-4fc4-afd9-84c0ad2ab174"
      },
      "outputs": [
        {
          "output_type": "display_data",
          "data": {
            "text/plain": [
              "<Figure size 640x480 with 2 Axes>"
            ],
            "image/png": "[encoded data removed]"
          },
          "metadata": {}
        }
      ],
      "source": [
        "import pandas as pd, seaborn as sns, matplotlib.pyplot as plt\n",
        "df = pd.DataFrame({'a':[1,2,3],'b':[4,5,6],'c':[7,8,9]})\n",
        "corr = df.corr()\n",
        "sns.heatmap(corr, annot=True)\n",
        "plt.show()"
      ]
    },
    {
      "cell_type": "markdown",
      "id": "db96ac9d",
      "metadata": {
        "id": "db96ac9d"
      },
      "source": [
        "Q5. Generate a bar plot using Plotly"
      ]
    },
    {
      "cell_type": "code",
      "execution_count": null,
      "id": "85da9ddb",
      "metadata": {
        "colab": {
          "base_uri": "https://localhost:8080/",
          "height": 542
        },
        "id": "85da9ddb",
        "outputId": "32f517f5-c3b3-4727-8545-b57493171998"
      },
      "outputs": [
        {
          "output_type": "display_data",
          "data": {
            "text/html": [
              "<html>\n",
              "<head><meta charset=\"utf-8\" /></head>\n",
              "<body>\n",
              "    <div>            <script src=\"https://cdnjs.cloudflare.com/ajax/libs/mathjax/2.7.5/MathJax.js?config=TeX-AMS-MML_SVG\"></script><script type=\"text/javascript\">if (window.MathJax && window.MathJax.Hub && window.MathJax.Hub.Config) {window.MathJax.Hub.Config({SVG: {font: \"STIX-Web\"}});}</script>                <script type=\"text/javascript\">window.PlotlyConfig = {MathJaxConfig: 'local'};</script>\n",
              "        <script charset=\"utf-8\" src=\"https://cdn.plot.ly/plotly-2.35.2.min.js\"></script>                <div id=\"31160358-df9d-4f06-bf8b-b30a56b0fd33\" class=\"plotly-graph-div\" style=\"height:525px; width:100%;\"></div>            <script type=\"text/javascript\">                                    window.PLOTLYENV=window.PLOTLYENV || {};                                    if (document.getElementById(\"31160358-df9d-4f06-bf8b-b30a56b0fd33\")) {                    Plotly.newPlot(                        \"31160358-df9d-4f06-bf8b-b30a56b0fd33\",                        [{\"alignmentgroup\":\"True\",\"hovertemplate\":\"x=%{x}\\u003cbr\\u003ey=%{y}\\u003cextra\\u003e\\u003c\\u002fextra\\u003e\",\"legendgroup\":\"\",\"marker\":{\"color\":\"#636efa\",\"pattern\":{\"shape\":\"\"}},\"name\":\"\",\"offsetgroup\":\"\",\"orientation\":\"v\",\"showlegend\":false,\"textposition\":\"auto\",\"x\":[\"A\",\"B\",\"C\"],\"xaxis\":\"x\",\"y\":[4,7,1],\"yaxis\":\"y\",\"type\":\"bar\"}],                        {\"template\":{\"data\":{\"histogram2dcontour\":[{\"type\":\"histogram2dcontour\",\"colorbar\":{\"outlinewidth\":0,\"ticks\":\"\"},\"colorscale\":[[0.0,\"#0d0887\"],[0.1111111111111111,\"#46039f\"],[0.2222222222222222,\"#7201a8\"],[0.3333333333333333,\"#9c179e\"],[0.4444444444444444,\"#bd3786\"],[0.5555555555555556,\"#d8576b\"],[0.6666666666666666,\"#ed7953\"],[0.7777777777777778,\"#fb9f3a\"],[0.8888888888888888,\"#fdca26\"],[1.0,\"#f0f921\"]]}],\"choropleth\":[{\"type\":\"choropleth\",\"colorbar\":{\"outlinewidth\":0,\"ticks\":\"\"}}],\"histogram2d\":[{\"type\":\"histogram2d\",\"colorbar\":{\"outlinewidth\":0,\"ticks\":\"\"},\"colorscale\":[[0.0,\"#0d0887\"],[0.1111111111111111,\"#46039f\"],[0.2222222222222222,\"#7201a8\"],[0.3333333333333333,\"#9c179e\"],[0.4444444444444444,\"#bd3786\"],[0.5555555555555556,\"#d8576b\"],[0.6666666666666666,\"#ed7953\"],[0.7777777777777778,\"#fb9f3a\"],[0.8888888888888888,\"#fdca26\"],[1.0,\"#f0f921\"]]}],\"heatmap\":[{\"type\":\"heatmap\",\"colorbar\":{\"outlinewidth\":0,\"ticks\":\"\"},\"colorscale\":[[0.0,\"#0d0887\"],[0.1111111111111111,\"#46039f\"],[0.2222222222222222,\"#7201a8\"],[0.3333333333333333,\"#9c179e\"],[0.4444444444444444,\"#bd3786\"],[0.5555555555555556,\"#d8576b\"],[0.6666666666666666,\"#ed7953\"],[0.7777777777777778,\"#fb9f3a\"],[0.8888888888888888,\"#fdca26\"],[1.0,\"#f0f921\"]]}],\"heatmapgl\":[{\"type\":\"heatmapgl\",\"colorbar\":{\"outlinewidth\":0,\"ticks\":\"\"},\"colorscale\":[[0.0,\"#0d0887\"],[0.1111111111111111,\"#46039f\"],[0.2222222222222222,\"#7201a8\"],[0.3333333333333333,\"#9c179e\"],[0.4444444444444444,\"#bd3786\"],[0.5555555555555556,\"#d8576b\"],[0.6666666666666666,\"#ed7953\"],[0.7777777777777778,\"#fb9f3a\"],[0.8888888888888888,\"#fdca26\"],[1.0,\"#f0f921\"]]}],\"contourcarpet\":[{\"type\":\"contourcarpet\",\"colorbar\":{\"outlinewidth\":0,\"ticks\":\"\"}}],\"contour\":[{\"type\":\"contour\",\"colorbar\":{\"outlinewidth\":0,\"ticks\":\"\"},\"colorscale\":[[0.0,\"#0d0887\"],[0.1111111111111111,\"#46039f\"],[0.2222222222222222,\"#7201a8\"],[0.3333333333333333,\"#9c179e\"],[0.4444444444444444,\"#bd3786\"],[0.5555555555555556,\"#d8576b\"],[0.6666666666666666,\"#ed7953\"],[0.7777777777777778,\"#fb9f3a\"],[0.8888888888888888,\"#fdca26\"],[1.0,\"#f0f921\"]]}],\"surface\":[{\"type\":\"surface\",\"colorbar\":{\"outlinewidth\":0,\"ticks\":\"\"},\"colorscale\":[[0.0,\"#0d0887\"],[0.1111111111111111,\"#46039f\"],[0.2222222222222222,\"#7201a8\"],[0.3333333333333333,\"#9c179e\"],[0.4444444444444444,\"#bd3786\"],[0.5555555555555556,\"#d8576b\"],[0.6666666666666666,\"#ed7953\"],[0.7777777777777778,\"#fb9f3a\"],[0.8888888888888888,\"#fdca26\"],[1.0,\"#f0f921\"]]}],\"mesh3d\":[{\"type\":\"mesh3d\",\"colorbar\":{\"outlinewidth\":0,\"ticks\":\"\"}}],\"scatter\":[{\"fillpattern\":{\"fillmode\":\"overlay\",\"size\":10,\"solidity\":0.2},\"type\":\"scatter\"}],\"parcoords\":[{\"type\":\"parcoords\",\"line\":{\"colorbar\":{\"outlinewidth\":0,\"ticks\":\"\"}}}],\"scatterpolargl\":[{\"type\":\"scatterpolargl\",\"marker\":{\"colorbar\":{\"outlinewidth\":0,\"ticks\":\"\"}}}],\"bar\":[{\"error_x\":{\"color\":\"#2a3f5f\"},\"error_y\":{\"color\":\"#2a3f5f\"},\"marker\":{\"line\":{\"color\":\"#E5ECF6\",\"width\":0.5},\"pattern\":{\"fillmode\":\"overlay\",\"size\":10,\"solidity\":0.2}},\"type\":\"bar\"}],\"scattergeo\":[{\"type\":\"scattergeo\",\"marker\":{\"colorbar\":{\"outlinewidth\":0,\"ticks\":\"\"}}}],\"scatterpolar\":[{\"type\":\"scatterpolar\",\"marker\":{\"colorbar\":{\"outlinewidth\":0,\"ticks\":\"\"}}}],\"histogram\":[{\"marker\":{\"pattern\":{\"fillmode\":\"overlay\",\"size\":10,\"solidity\":0.2}},\"type\":\"histogram\"}],\"scattergl\":[{\"type\":\"scattergl\",\"marker\":{\"colorbar\":{\"outlinewidth\":0,\"ticks\":\"\"}}}],\"scatter3d\":[{\"type\":\"scatter3d\",\"line\":{\"colorbar\":{\"outlinewidth\":0,\"ticks\":\"\"}},\"marker\":{\"colorbar\":{\"outlinewidth\":0,\"ticks\":\"\"}}}],\"scattermapbox\":[{\"type\":\"scattermapbox\",\"marker\":{\"colorbar\":{\"outlinewidth\":0,\"ticks\":\"\"}}}],\"scatterternary\":[{\"type\":\"scatterternary\",\"marker\":{\"colorbar\":{\"outlinewidth\":0,\"ticks\":\"\"}}}],\"scattercarpet\":[{\"type\":\"scattercarpet\",\"marker\":{\"colorbar\":{\"outlinewidth\":0,\"ticks\":\"\"}}}],\"carpet\":[{\"aaxis\":{\"endlinecolor\":\"#2a3f5f\",\"gridcolor\":\"white\",\"linecolor\":\"white\",\"minorgridcolor\":\"white\",\"startlinecolor\":\"#2a3f5f\"},\"baxis\":{\"endlinecolor\":\"#2a3f5f\",\"gridcolor\":\"white\",\"linecolor\":\"white\",\"minorgridcolor\":\"white\",\"startlinecolor\":\"#2a3f5f\"},\"type\":\"carpet\"}],\"table\":[{\"cells\":{\"fill\":{\"color\":\"#EBF0F8\"},\"line\":{\"color\":\"white\"}},\"header\":{\"fill\":{\"color\":\"#C8D4E3\"},\"line\":{\"color\":\"white\"}},\"type\":\"table\"}],\"barpolar\":[{\"marker\":{\"line\":{\"color\":\"#E5ECF6\",\"width\":0.5},\"pattern\":{\"fillmode\":\"overlay\",\"size\":10,\"solidity\":0.2}},\"type\":\"barpolar\"}],\"pie\":[{\"automargin\":true,\"type\":\"pie\"}]},\"layout\":{\"autotypenumbers\":\"strict\",\"colorway\":[\"#636efa\",\"#EF553B\",\"#00cc96\",\"#ab63fa\",\"#FFA15A\",\"#19d3f3\",\"#FF6692\",\"#B6E880\",\"#FF97FF\",\"#FECB52\"],\"font\":{\"color\":\"#2a3f5f\"},\"hovermode\":\"closest\",\"hoverlabel\":{\"align\":\"left\"},\"paper_bgcolor\":\"white\",\"plot_bgcolor\":\"#E5ECF6\",\"polar\":{\"bgcolor\":\"#E5ECF6\",\"angularaxis\":{\"gridcolor\":\"white\",\"linecolor\":\"white\",\"ticks\":\"\"},\"radialaxis\":{\"gridcolor\":\"white\",\"linecolor\":\"white\",\"ticks\":\"\"}},\"ternary\":{\"bgcolor\":\"#E5ECF6\",\"aaxis\":{\"gridcolor\":\"white\",\"linecolor\":\"white\",\"ticks\":\"\"},\"baxis\":{\"gridcolor\":\"white\",\"linecolor\":\"white\",\"ticks\":\"\"},\"caxis\":{\"gridcolor\":\"white\",\"linecolor\":\"white\",\"ticks\":\"\"}},\"coloraxis\":{\"colorbar\":{\"outlinewidth\":0,\"ticks\":\"\"}},\"colorscale\":{\"sequential\":[[0.0,\"#0d0887\"],[0.1111111111111111,\"#46039f\"],[0.2222222222222222,\"#7201a8\"],[0.3333333333333333,\"#9c179e\"],[0.4444444444444444,\"#bd3786\"],[0.5555555555555556,\"#d8576b\"],[0.6666666666666666,\"#ed7953\"],[0.7777777777777778,\"#fb9f3a\"],[0.8888888888888888,\"#fdca26\"],[1.0,\"#f0f921\"]],\"sequentialminus\":[[0.0,\"#0d0887\"],[0.1111111111111111,\"#46039f\"],[0.2222222222222222,\"#7201a8\"],[0.3333333333333333,\"#9c179e\"],[0.4444444444444444,\"#bd3786\"],[0.5555555555555556,\"#d8576b\"],[0.6666666666666666,\"#ed7953\"],[0.7777777777777778,\"#fb9f3a\"],[0.8888888888888888,\"#fdca26\"],[1.0,\"#f0f921\"]],\"diverging\":[[0,\"#8e0152\"],[0.1,\"#c51b7d\"],[0.2,\"#de77ae\"],[0.3,\"#f1b6da\"],[0.4,\"#fde0ef\"],[0.5,\"#f7f7f7\"],[0.6,\"#e6f5d0\"],[0.7,\"#b8e186\"],[0.8,\"#7fbc41\"],[0.9,\"#4d9221\"],[1,\"#276419\"]]},\"xaxis\":{\"gridcolor\":\"white\",\"linecolor\":\"white\",\"ticks\":\"\",\"title\":{\"standoff\":15},\"zerolinecolor\":\"white\",\"automargin\":true,\"zerolinewidth\":2},\"yaxis\":{\"gridcolor\":\"white\",\"linecolor\":\"white\",\"ticks\":\"\",\"title\":{\"standoff\":15},\"zerolinecolor\":\"white\",\"automargin\":true,\"zerolinewidth\":2},\"scene\":{\"xaxis\":{\"backgroundcolor\":\"#E5ECF6\",\"gridcolor\":\"white\",\"linecolor\":\"white\",\"showbackground\":true,\"ticks\":\"\",\"zerolinecolor\":\"white\",\"gridwidth\":2},\"yaxis\":{\"backgroundcolor\":\"#E5ECF6\",\"gridcolor\":\"white\",\"linecolor\":\"white\",\"showbackground\":true,\"ticks\":\"\",\"zerolinecolor\":\"white\",\"gridwidth\":2},\"zaxis\":{\"backgroundcolor\":\"#E5ECF6\",\"gridcolor\":\"white\",\"linecolor\":\"white\",\"showbackground\":true,\"ticks\":\"\",\"zerolinecolor\":\"white\",\"gridwidth\":2}},\"shapedefaults\":{\"line\":{\"color\":\"#2a3f5f\"}},\"annotationdefaults\":{\"arrowcolor\":\"#2a3f5f\",\"arrowhead\":0,\"arrowwidth\":1},\"geo\":{\"bgcolor\":\"white\",\"landcolor\":\"#E5ECF6\",\"subunitcolor\":\"white\",\"showland\":true,\"showlakes\":true,\"lakecolor\":\"white\"},\"title\":{\"x\":0.05},\"mapbox\":{\"style\":\"light\"}}},\"xaxis\":{\"anchor\":\"y\",\"domain\":[0.0,1.0],\"title\":{\"text\":\"x\"}},\"yaxis\":{\"anchor\":\"x\",\"domain\":[0.0,1.0],\"title\":{\"text\":\"y\"}},\"legend\":{\"tracegroupgap\":0},\"margin\":{\"t\":60},\"barmode\":\"relative\"},                        {\"responsive\": true}                    ).then(function(){\n",
              "                            \n",
              "var gd = document.getElementById('31160358-df9d-4f06-bf8b-b30a56b0fd33');\n",
              "var x = new MutationObserver(function (mutations, observer) {{\n",
              "        var display = window.getComputedStyle(gd).display;\n",
              "        if (!display || display === 'none') {{\n",
              "            console.log([gd, 'removed!']);\n",
              "            Plotly.purge(gd);\n",
              "            observer.disconnect();\n",
              "        }}\n",
              "}});\n",
              "\n",
              "// Listen for the removal of the full notebook cells\n",
              "var notebookContainer = gd.closest('#notebook-container');\n",
              "if (notebookContainer) {{\n",
              "    x.observe(notebookContainer, {childList: true});\n",
              "}}\n",
              "\n",
              "// Listen for the clearing of the current output cell\n",
              "var outputEl = gd.closest('.output');\n",
              "if (outputEl) {{\n",
              "    x.observe(outputEl, {childList: true});\n",
              "}}\n",
              "\n",
              "                        })                };                            </script>        </div>\n",
              "</body>\n",
              "</html>"
            ]
          },
          "metadata": {}
        }
      ],
      "source": [
        "import plotly.express as px\n",
        "fig = px.bar(x=['A','B','C'], y=[4,7,1])\n",
        "fig.show()"
      ]
    },
    {
      "cell_type": "markdown",
      "id": "570bb3d3",
      "metadata": {
        "id": "570bb3d3"
      },
      "source": [
        "Q6. Create a DataFrame and add a new column based on an existing column"
      ]
    },
    {
      "cell_type": "code",
      "execution_count": null,
      "id": "977cac0f",
      "metadata": {
        "colab": {
          "base_uri": "https://localhost:8080/"
        },
        "id": "977cac0f",
        "outputId": "7afe2e59-859d-4016-c599-a7806f80e993"
      },
      "outputs": [
        {
          "output_type": "stream",
          "name": "stdout",
          "text": [
            "   Marks  Grade\n",
            "0     50  False\n",
            "1     60  False\n",
            "2     70   True\n"
          ]
        }
      ],
      "source": [
        "import pandas as pd\n",
        "df = pd.DataFrame({'Marks':[50,60,70]})\n",
        "df['Grade'] = df['Marks'] > 60\n",
        "print(df)"
      ]
    },
    {
      "cell_type": "markdown",
      "id": "aef303cb",
      "metadata": {
        "id": "aef303cb"
      },
      "source": [
        "Q7. Write a program to perform element-wise multiplication of two NumPy arrays"
      ]
    },
    {
      "cell_type": "code",
      "execution_count": null,
      "id": "bda2ba18",
      "metadata": {
        "colab": {
          "base_uri": "https://localhost:8080/"
        },
        "id": "bda2ba18",
        "outputId": "ad7fb501-b1d4-43e5-fba4-708d92772e67"
      },
      "outputs": [
        {
          "output_type": "stream",
          "name": "stdout",
          "text": [
            "[ 4 10 18]\n"
          ]
        }
      ],
      "source": [
        "import numpy as np\n",
        "x = np.array([1,2,3])\n",
        "y = np.array([4,5,6])\n",
        "print(x * y)"
      ]
    },
    {
      "cell_type": "markdown",
      "id": "1630b96f",
      "metadata": {
        "id": "1630b96f"
      },
      "source": [
        "Q8. Create a line plot with multiple lines using Matplotlib"
      ]
    },
    {
      "cell_type": "code",
      "execution_count": null,
      "id": "0ee0397d",
      "metadata": {
        "colab": {
          "base_uri": "https://localhost:8080/",
          "height": 430
        },
        "id": "0ee0397d",
        "outputId": "d7fc5554-182a-4628-e364-42876e74a4d9"
      },
      "outputs": [
        {
          "output_type": "display_data",
          "data": {
            "text/plain": [
              "<Figure size 640x480 with 1 Axes>"
            ],
            "image/png": "[encoded data removed]"
          },
          "metadata": {}
        }
      ],
      "source": [
        "import matplotlib.pyplot as plt\n",
        "x = [1,2,3,4]\n",
        "y1 = [1,2,3,4]\n",
        "y2 = [1,4,9,16]\n",
        "plt.plot(x,y1,label='Line1')\n",
        "plt.plot(x,y2,label='Line2')\n",
        "plt.legend()\n",
        "plt.show()"
      ]
    },
    {
      "cell_type": "markdown",
      "id": "089780b9",
      "metadata": {
        "id": "089780b9"
      },
      "source": [
        "Q9. Generate a Pandas DataFrame and filter rows where a column value is greater than a threshold"
      ]
    },
    {
      "cell_type": "code",
      "execution_count": null,
      "id": "eaaf88e4",
      "metadata": {
        "colab": {
          "base_uri": "https://localhost:8080/"
        },
        "id": "eaaf88e4",
        "outputId": "3d15acb7-084e-4da9-e7e8-567b9f0f77b0"
      },
      "outputs": [
        {
          "output_type": "stream",
          "name": "stdout",
          "text": [
            "  Name  Age\n",
            "1    B   25\n",
            "2    C   30\n"
          ]
        }
      ],
      "source": [
        "import pandas as pd\n",
        "df = pd.DataFrame({'Name':['A','B','C'],'Age':[20,25,30]})\n",
        "print(df[df['Age'] > 22])"
      ]
    },
    {
      "cell_type": "markdown",
      "id": "e0fc3412",
      "metadata": {
        "id": "e0fc3412"
      },
      "source": [
        "Q10. Create a histogram using Seaborn to visualize a distribution"
      ]
    },
    {
      "cell_type": "code",
      "execution_count": null,
      "id": "b1548c88",
      "metadata": {
        "colab": {
          "base_uri": "https://localhost:8080/",
          "height": 430
        },
        "id": "b1548c88",
        "outputId": "9e65a9d4-91ab-4dc9-8787-54ab16ebda5f"
      },
      "outputs": [
        {
          "output_type": "display_data",
          "data": {
            "text/plain": [
              "<Figure size 640x480 with 1 Axes>"
            ],
            "image/png": "[encoded data removed]"
          },
          "metadata": {}
        }
      ],
      "source": [
        "import seaborn as sns, matplotlib.pyplot as plt\n",
        "data = [1,2,2,3,3,3,4,4,5]\n",
        "sns.histplot(data, bins=5, kde=True)\n",
        "plt.show()"
      ]
    },
    {
      "cell_type": "markdown",
      "id": "704305b2",
      "metadata": {
        "id": "704305b2"
      },
      "source": [
        "Q11. Perform matrix multiplication using NumPy"
      ]
    },
    {
      "cell_type": "code",
      "execution_count": null,
      "id": "fcf6a46a",
      "metadata": {
        "colab": {
          "base_uri": "https://localhost:8080/"
        },
        "id": "fcf6a46a",
        "outputId": "db2179c8-5eb3-4b77-91d1-ff0f1678f941"
      },
      "outputs": [
        {
          "output_type": "stream",
          "name": "stdout",
          "text": [
            "[[19 22]\n",
            " [43 50]]\n"
          ]
        }
      ],
      "source": [
        "import numpy as np\n",
        "A = np.array([[1,2],[3,4]])\n",
        "B = np.array([[5,6],[7,8]])\n",
        "print(np.dot(A,B))"
      ]
    },
    {
      "cell_type": "markdown",
      "id": "982117df",
      "metadata": {
        "id": "982117df"
      },
      "source": [
        "Q12. Use Pandas to load a CSV file and display its first 5 rows"
      ]
    },
    {
      "cell_type": "code",
      "execution_count": 18,
      "id": "1c09942e",
      "metadata": {
        "colab": {
          "base_uri": "https://localhost:8080/"
        },
        "id": "1c09942e",
        "outputId": "9dd8a8fe-80b7-4a8c-ca31-849ebbe5f8f3"
      },
      "outputs": [
        {
          "output_type": "stream",
          "name": "stdout",
          "text": [
            "      Name Score\n",
            "0  Krishna   72%\n",
            "1    Pooja   77%\n",
            "2    Arjun   66%\n",
            "3     Anil   61%\n",
            "4   Janhvi   72%\n"
          ]
        }
      ],
      "source": [
        "import pandas as pd\n",
        "file = pd.read_csv(r'/content/sample_data/sample.csv')\n",
        "print(file.head())"
      ]
    },
    {
      "cell_type": "markdown",
      "id": "13437953",
      "metadata": {
        "id": "13437953"
      },
      "source": [
        "Q13. Create a 3D scatter plot using Plotly"
      ]
    },
    {
      "cell_type": "code",
      "execution_count": 19,
      "id": "bad21a8e",
      "metadata": {
        "colab": {
          "base_uri": "https://localhost:8080/",
          "height": 542
        },
        "id": "bad21a8e",
        "outputId": "79deade2-f1fe-4d55-b547-50a4f90a5dc2"
      },
      "outputs": [
        {
          "output_type": "display_data",
          "data": {
            "text/html": [
              "<html>\n",
              "<head><meta charset=\"utf-8\" /></head>\n",
              "<body>\n",
              "    <div>            <script src=\"https://cdnjs.cloudflare.com/ajax/libs/mathjax/2.7.5/MathJax.js?config=TeX-AMS-MML_SVG\"></script><script type=\"text/javascript\">if (window.MathJax && window.MathJax.Hub && window.MathJax.Hub.Config) {window.MathJax.Hub.Config({SVG: {font: \"STIX-Web\"}});}</script>                <script type=\"text/javascript\">window.PlotlyConfig = {MathJaxConfig: 'local'};</script>\n",
              "        <script charset=\"utf-8\" src=\"https://cdn.plot.ly/plotly-2.35.2.min.js\"></script>                <div id=\"3e66cca5-05e3-472a-9ea1-ad951e2e19f4\" class=\"plotly-graph-div\" style=\"height:525px; width:100%;\"></div>            <script type=\"text/javascript\">                                    window.PLOTLYENV=window.PLOTLYENV || {};                                    if (document.getElementById(\"3e66cca5-05e3-472a-9ea1-ad951e2e19f4\")) {                    Plotly.newPlot(                        \"3e66cca5-05e3-472a-9ea1-ad951e2e19f4\",                        [{\"hovertemplate\":\"x=%{x}\\u003cbr\\u003ey=%{y}\\u003cbr\\u003ez=%{z}\\u003cextra\\u003e\\u003c\\u002fextra\\u003e\",\"legendgroup\":\"\",\"marker\":{\"color\":\"#636efa\",\"symbol\":\"circle\"},\"mode\":\"markers\",\"name\":\"\",\"scene\":\"scene\",\"showlegend\":false,\"x\":[1,2,3],\"y\":[4,5,6],\"z\":[7,8,9],\"type\":\"scatter3d\"}],                        {\"template\":{\"data\":{\"histogram2dcontour\":[{\"type\":\"histogram2dcontour\",\"colorbar\":{\"outlinewidth\":0,\"ticks\":\"\"},\"colorscale\":[[0.0,\"#0d0887\"],[0.1111111111111111,\"#46039f\"],[0.2222222222222222,\"#7201a8\"],[0.3333333333333333,\"#9c179e\"],[0.4444444444444444,\"#bd3786\"],[0.5555555555555556,\"#d8576b\"],[0.6666666666666666,\"#ed7953\"],[0.7777777777777778,\"#fb9f3a\"],[0.8888888888888888,\"#fdca26\"],[1.0,\"#f0f921\"]]}],\"choropleth\":[{\"type\":\"choropleth\",\"colorbar\":{\"outlinewidth\":0,\"ticks\":\"\"}}],\"histogram2d\":[{\"type\":\"histogram2d\",\"colorbar\":{\"outlinewidth\":0,\"ticks\":\"\"},\"colorscale\":[[0.0,\"#0d0887\"],[0.1111111111111111,\"#46039f\"],[0.2222222222222222,\"#7201a8\"],[0.3333333333333333,\"#9c179e\"],[0.4444444444444444,\"#bd3786\"],[0.5555555555555556,\"#d8576b\"],[0.6666666666666666,\"#ed7953\"],[0.7777777777777778,\"#fb9f3a\"],[0.8888888888888888,\"#fdca26\"],[1.0,\"#f0f921\"]]}],\"heatmap\":[{\"type\":\"heatmap\",\"colorbar\":{\"outlinewidth\":0,\"ticks\":\"\"},\"colorscale\":[[0.0,\"#0d0887\"],[0.1111111111111111,\"#46039f\"],[0.2222222222222222,\"#7201a8\"],[0.3333333333333333,\"#9c179e\"],[0.4444444444444444,\"#bd3786\"],[0.5555555555555556,\"#d8576b\"],[0.6666666666666666,\"#ed7953\"],[0.7777777777777778,\"#fb9f3a\"],[0.8888888888888888,\"#fdca26\"],[1.0,\"#f0f921\"]]}],\"heatmapgl\":[{\"type\":\"heatmapgl\",\"colorbar\":{\"outlinewidth\":0,\"ticks\":\"\"},\"colorscale\":[[0.0,\"#0d0887\"],[0.1111111111111111,\"#46039f\"],[0.2222222222222222,\"#7201a8\"],[0.3333333333333333,\"#9c179e\"],[0.4444444444444444,\"#bd3786\"],[0.5555555555555556,\"#d8576b\"],[0.6666666666666666,\"#ed7953\"],[0.7777777777777778,\"#fb9f3a\"],[0.8888888888888888,\"#fdca26\"],[1.0,\"#f0f921\"]]}],\"contourcarpet\":[{\"type\":\"contourcarpet\",\"colorbar\":{\"outlinewidth\":0,\"ticks\":\"\"}}],\"contour\":[{\"type\":\"contour\",\"colorbar\":{\"outlinewidth\":0,\"ticks\":\"\"},\"colorscale\":[[0.0,\"#0d0887\"],[0.1111111111111111,\"#46039f\"],[0.2222222222222222,\"#7201a8\"],[0.3333333333333333,\"#9c179e\"],[0.4444444444444444,\"#bd3786\"],[0.5555555555555556,\"#d8576b\"],[0.6666666666666666,\"#ed7953\"],[0.7777777777777778,\"#fb9f3a\"],[0.8888888888888888,\"#fdca26\"],[1.0,\"#f0f921\"]]}],\"surface\":[{\"type\":\"surface\",\"colorbar\":{\"outlinewidth\":0,\"ticks\":\"\"},\"colorscale\":[[0.0,\"#0d0887\"],[0.1111111111111111,\"#46039f\"],[0.2222222222222222,\"#7201a8\"],[0.3333333333333333,\"#9c179e\"],[0.4444444444444444,\"#bd3786\"],[0.5555555555555556,\"#d8576b\"],[0.6666666666666666,\"#ed7953\"],[0.7777777777777778,\"#fb9f3a\"],[0.8888888888888888,\"#fdca26\"],[1.0,\"#f0f921\"]]}],\"mesh3d\":[{\"type\":\"mesh3d\",\"colorbar\":{\"outlinewidth\":0,\"ticks\":\"\"}}],\"scatter\":[{\"fillpattern\":{\"fillmode\":\"overlay\",\"size\":10,\"solidity\":0.2},\"type\":\"scatter\"}],\"parcoords\":[{\"type\":\"parcoords\",\"line\":{\"colorbar\":{\"outlinewidth\":0,\"ticks\":\"\"}}}],\"scatterpolargl\":[{\"type\":\"scatterpolargl\",\"marker\":{\"colorbar\":{\"outlinewidth\":0,\"ticks\":\"\"}}}],\"bar\":[{\"error_x\":{\"color\":\"#2a3f5f\"},\"error_y\":{\"color\":\"#2a3f5f\"},\"marker\":{\"line\":{\"color\":\"#E5ECF6\",\"width\":0.5},\"pattern\":{\"fillmode\":\"overlay\",\"size\":10,\"solidity\":0.2}},\"type\":\"bar\"}],\"scattergeo\":[{\"type\":\"scattergeo\",\"marker\":{\"colorbar\":{\"outlinewidth\":0,\"ticks\":\"\"}}}],\"scatterpolar\":[{\"type\":\"scatterpolar\",\"marker\":{\"colorbar\":{\"outlinewidth\":0,\"ticks\":\"\"}}}],\"histogram\":[{\"marker\":{\"pattern\":{\"fillmode\":\"overlay\",\"size\":10,\"solidity\":0.2}},\"type\":\"histogram\"}],\"scattergl\":[{\"type\":\"scattergl\",\"marker\":{\"colorbar\":{\"outlinewidth\":0,\"ticks\":\"\"}}}],\"scatter3d\":[{\"type\":\"scatter3d\",\"line\":{\"colorbar\":{\"outlinewidth\":0,\"ticks\":\"\"}},\"marker\":{\"colorbar\":{\"outlinewidth\":0,\"ticks\":\"\"}}}],\"scattermapbox\":[{\"type\":\"scattermapbox\",\"marker\":{\"colorbar\":{\"outlinewidth\":0,\"ticks\":\"\"}}}],\"scatterternary\":[{\"type\":\"scatterternary\",\"marker\":{\"colorbar\":{\"outlinewidth\":0,\"ticks\":\"\"}}}],\"scattercarpet\":[{\"type\":\"scattercarpet\",\"marker\":{\"colorbar\":{\"outlinewidth\":0,\"ticks\":\"\"}}}],\"carpet\":[{\"aaxis\":{\"endlinecolor\":\"#2a3f5f\",\"gridcolor\":\"white\",\"linecolor\":\"white\",\"minorgridcolor\":\"white\",\"startlinecolor\":\"#2a3f5f\"},\"baxis\":{\"endlinecolor\":\"#2a3f5f\",\"gridcolor\":\"white\",\"linecolor\":\"white\",\"minorgridcolor\":\"white\",\"startlinecolor\":\"#2a3f5f\"},\"type\":\"carpet\"}],\"table\":[{\"cells\":{\"fill\":{\"color\":\"#EBF0F8\"},\"line\":{\"color\":\"white\"}},\"header\":{\"fill\":{\"color\":\"#C8D4E3\"},\"line\":{\"color\":\"white\"}},\"type\":\"table\"}],\"barpolar\":[{\"marker\":{\"line\":{\"color\":\"#E5ECF6\",\"width\":0.5},\"pattern\":{\"fillmode\":\"overlay\",\"size\":10,\"solidity\":0.2}},\"type\":\"barpolar\"}],\"pie\":[{\"automargin\":true,\"type\":\"pie\"}]},\"layout\":{\"autotypenumbers\":\"strict\",\"colorway\":[\"#636efa\",\"#EF553B\",\"#00cc96\",\"#ab63fa\",\"#FFA15A\",\"#19d3f3\",\"#FF6692\",\"#B6E880\",\"#FF97FF\",\"#FECB52\"],\"font\":{\"color\":\"#2a3f5f\"},\"hovermode\":\"closest\",\"hoverlabel\":{\"align\":\"left\"},\"paper_bgcolor\":\"white\",\"plot_bgcolor\":\"#E5ECF6\",\"polar\":{\"bgcolor\":\"#E5ECF6\",\"angularaxis\":{\"gridcolor\":\"white\",\"linecolor\":\"white\",\"ticks\":\"\"},\"radialaxis\":{\"gridcolor\":\"white\",\"linecolor\":\"white\",\"ticks\":\"\"}},\"ternary\":{\"bgcolor\":\"#E5ECF6\",\"aaxis\":{\"gridcolor\":\"white\",\"linecolor\":\"white\",\"ticks\":\"\"},\"baxis\":{\"gridcolor\":\"white\",\"linecolor\":\"white\",\"ticks\":\"\"},\"caxis\":{\"gridcolor\":\"white\",\"linecolor\":\"white\",\"ticks\":\"\"}},\"coloraxis\":{\"colorbar\":{\"outlinewidth\":0,\"ticks\":\"\"}},\"colorscale\":{\"sequential\":[[0.0,\"#0d0887\"],[0.1111111111111111,\"#46039f\"],[0.2222222222222222,\"#7201a8\"],[0.3333333333333333,\"#9c179e\"],[0.4444444444444444,\"#bd3786\"],[0.5555555555555556,\"#d8576b\"],[0.6666666666666666,\"#ed7953\"],[0.7777777777777778,\"#fb9f3a\"],[0.8888888888888888,\"#fdca26\"],[1.0,\"#f0f921\"]],\"sequentialminus\":[[0.0,\"#0d0887\"],[0.1111111111111111,\"#46039f\"],[0.2222222222222222,\"#7201a8\"],[0.3333333333333333,\"#9c179e\"],[0.4444444444444444,\"#bd3786\"],[0.5555555555555556,\"#d8576b\"],[0.6666666666666666,\"#ed7953\"],[0.7777777777777778,\"#fb9f3a\"],[0.8888888888888888,\"#fdca26\"],[1.0,\"#f0f921\"]],\"diverging\":[[0,\"#8e0152\"],[0.1,\"#c51b7d\"],[0.2,\"#de77ae\"],[0.3,\"#f1b6da\"],[0.4,\"#fde0ef\"],[0.5,\"#f7f7f7\"],[0.6,\"#e6f5d0\"],[0.7,\"#b8e186\"],[0.8,\"#7fbc41\"],[0.9,\"#4d9221\"],[1,\"#276419\"]]},\"xaxis\":{\"gridcolor\":\"white\",\"linecolor\":\"white\",\"ticks\":\"\",\"title\":{\"standoff\":15},\"zerolinecolor\":\"white\",\"automargin\":true,\"zerolinewidth\":2},\"yaxis\":{\"gridcolor\":\"white\",\"linecolor\":\"white\",\"ticks\":\"\",\"title\":{\"standoff\":15},\"zerolinecolor\":\"white\",\"automargin\":true,\"zerolinewidth\":2},\"scene\":{\"xaxis\":{\"backgroundcolor\":\"#E5ECF6\",\"gridcolor\":\"white\",\"linecolor\":\"white\",\"showbackground\":true,\"ticks\":\"\",\"zerolinecolor\":\"white\",\"gridwidth\":2},\"yaxis\":{\"backgroundcolor\":\"#E5ECF6\",\"gridcolor\":\"white\",\"linecolor\":\"white\",\"showbackground\":true,\"ticks\":\"\",\"zerolinecolor\":\"white\",\"gridwidth\":2},\"zaxis\":{\"backgroundcolor\":\"#E5ECF6\",\"gridcolor\":\"white\",\"linecolor\":\"white\",\"showbackground\":true,\"ticks\":\"\",\"zerolinecolor\":\"white\",\"gridwidth\":2}},\"shapedefaults\":{\"line\":{\"color\":\"#2a3f5f\"}},\"annotationdefaults\":{\"arrowcolor\":\"#2a3f5f\",\"arrowhead\":0,\"arrowwidth\":1},\"geo\":{\"bgcolor\":\"white\",\"landcolor\":\"#E5ECF6\",\"subunitcolor\":\"white\",\"showland\":true,\"showlakes\":true,\"lakecolor\":\"white\"},\"title\":{\"x\":0.05},\"mapbox\":{\"style\":\"light\"}}},\"scene\":{\"domain\":{\"x\":[0.0,1.0],\"y\":[0.0,1.0]},\"xaxis\":{\"title\":{\"text\":\"x\"}},\"yaxis\":{\"title\":{\"text\":\"y\"}},\"zaxis\":{\"title\":{\"text\":\"z\"}}},\"legend\":{\"tracegroupgap\":0},\"margin\":{\"t\":60}},                        {\"responsive\": true}                    ).then(function(){\n",
              "                            \n",
              "var gd = document.getElementById('3e66cca5-05e3-472a-9ea1-ad951e2e19f4');\n",
              "var x = new MutationObserver(function (mutations, observer) {{\n",
              "        var display = window.getComputedStyle(gd).display;\n",
              "        if (!display || display === 'none') {{\n",
              "            console.log([gd, 'removed!']);\n",
              "            Plotly.purge(gd);\n",
              "            observer.disconnect();\n",
              "        }}\n",
              "}});\n",
              "\n",
              "// Listen for the removal of the full notebook cells\n",
              "var notebookContainer = gd.closest('#notebook-container');\n",
              "if (notebookContainer) {{\n",
              "    x.observe(notebookContainer, {childList: true});\n",
              "}}\n",
              "\n",
              "// Listen for the clearing of the current output cell\n",
              "var outputEl = gd.closest('.output');\n",
              "if (outputEl) {{\n",
              "    x.observe(outputEl, {childList: true});\n",
              "}}\n",
              "\n",
              "                        })                };                            </script>        </div>\n",
              "</body>\n",
              "</html>"
            ]
          },
          "metadata": {}
        }
      ],
      "source": [
        "import plotly.express as px\n",
        "fig = px.scatter_3d(x=[1,2,3], y=[4,5,6], z=[7,8,9])\n",
        "fig.show()"
      ]
    }
  ],
  "metadata": {
    "colab": {
      "provenance": []
    },
    "language_info": {
      "name": "python"
    },
    "kernelspec": {
      "name": "python3",
      "display_name": "Python 3"
    }
  },
  "nbformat": 4,
  "nbformat_minor": 5
}